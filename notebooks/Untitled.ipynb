{
 "cells": [
  {
   "cell_type": "code",
   "execution_count": 1,
   "metadata": {},
   "outputs": [],
   "source": [
    "import pandas as pd\n",
    "import sa_gwdata"
   ]
  },
  {
   "cell_type": "code",
   "execution_count": 2,
   "metadata": {},
   "outputs": [],
   "source": [
    "wells = sa_gwdata.find_wells_in_lat_lon([-34.65, -34.62], [135.47, 135.51])"
   ]
  },
  {
   "cell_type": "code",
   "execution_count": 3,
   "metadata": {},
   "outputs": [],
   "source": [
    "def get_columns(func_name):\n",
    "    df = getattr(sa_gwdata, func_name)(wells)\n",
    "    for col in df.columns:\n",
    "        dtype = df[col].dtype\n",
    "        if dtype == \"object\":\n",
    "            dtype = \"str\"\n",
    "        print(f\"- {col} ({dtype})\")"
   ]
  },
  {
   "cell_type": "code",
   "execution_count": 4,
   "metadata": {},
   "outputs": [
    {
     "name": "stdout",
     "output_type": "stream",
     "text": [
      "- dh_no (int64)\n",
      "- unit_hyphen (str)\n",
      "- unit_long (int64)\n",
      "- dh_name (str)\n",
      "- network (str)\n",
      "- obs_no (str)\n",
      "- drillhole_class (str)\n",
      "- aquifer (str)\n",
      "- orig_drilled_depth (float64)\n",
      "- orig_drilled_date (datetime64[ns])\n",
      "- max_drilled_depth (float64)\n",
      "- max_drilled_date (datetime64[ns])\n",
      "- latest_open_depth (float64)\n",
      "- latest_open_date (datetime64[ns])\n",
      "- latest_permit_no (float64)\n",
      "- cased_to (float64)\n",
      "- casing_min_diam (float64)\n",
      "- purpose (str)\n",
      "- latest_status (str)\n",
      "- latest_status_date (datetime64[ns])\n",
      "- latest_dtw (float64)\n",
      "- latest_swl (float64)\n",
      "- latest_rswl (float64)\n",
      "- latest_wl_date (datetime64[ns])\n",
      "- latest_tds (float64)\n",
      "- latest_ec (float64)\n",
      "- latest_sal_date (datetime64[ns])\n",
      "- latest_ph (float64)\n",
      "- latest_ph_date (datetime64[ns])\n",
      "- latest_yield (float64)\n",
      "- latest_yield_date (datetime64[ns])\n",
      "- easting (float64)\n",
      "- northing (float64)\n",
      "- zone (int64)\n",
      "- lon_deg (int64)\n",
      "- lon_min (int64)\n",
      "- lon_sec (float64)\n",
      "- lat_deg (int64)\n",
      "- lat_min (int64)\n",
      "- lat_sec (float64)\n",
      "- longitude (float64)\n",
      "- latitude_positive (float64)\n",
      "- latitude (float64)\n",
      "- hundred (str)\n",
      "- plan (str)\n",
      "- parcel (str)\n",
      "- cert_title (str)\n",
      "- map_250k (str)\n",
      "- map_100k (int64)\n",
      "- map_50k (int64)\n",
      "- map_10k (int64)\n",
      "- map_2_5k (str)\n",
      "- map_1k (int64)\n",
      "- water_info_exists (str)\n",
      "- salinity_exists (str)\n",
      "- water_chem_exists (str)\n",
      "- geophys_log_exists (str)\n",
      "- drillers_log_exists (str)\n",
      "- lith_log_exists (str)\n"
     ]
    }
   ],
   "source": [
    "get_columns(\"wells_summary\")"
   ]
  },
  {
   "cell_type": "code",
   "execution_count": 5,
   "metadata": {},
   "outputs": [
    {
     "name": "stdout",
     "output_type": "stream",
     "text": [
      "- dh_no (int64)\n",
      "- network (str)\n",
      "- unit_long (int64)\n",
      "- aquifer (str)\n",
      "- easting (float64)\n",
      "- northing (float64)\n",
      "- zone (int64)\n",
      "- unit_hyphen (str)\n",
      "- obs_no (str)\n",
      "- obs_date (datetime64[ns])\n",
      "- dtw (float64)\n",
      "- swl (float64)\n",
      "- rswl (float64)\n",
      "- pressure (float64)\n",
      "- temperature (float64)\n",
      "- dry_ind (str)\n",
      "- anomalous_ind (str)\n",
      "- pump_ind (str)\n",
      "- measured_during (str)\n",
      "- data_source (str)\n",
      "- comments (str)\n"
     ]
    }
   ],
   "source": [
    "get_columns(\"water_levels\")"
   ]
  },
  {
   "cell_type": "code",
   "execution_count": 6,
   "metadata": {},
   "outputs": [
    {
     "name": "stdout",
     "output_type": "stream",
     "text": [
      "- dh_no (int64)\n",
      "- network (str)\n",
      "- aquifer (str)\n",
      "- unit_hyphen (str)\n",
      "- unit_long (int64)\n",
      "- obs_no (str)\n",
      "- collected_date (datetime64[ns])\n",
      "- collected_time (str)\n",
      "- tds (int64)\n",
      "- ec (int64)\n",
      "- ph (float64)\n",
      "- sample_type (str)\n",
      "- anomalous_ind (str)\n",
      "- test_place (str)\n",
      "- extract_method (str)\n",
      "- measured_during (str)\n",
      "- data_source (str)\n",
      "- easting (float64)\n",
      "- northing (float64)\n",
      "- zone (int64)\n"
     ]
    }
   ],
   "source": [
    "get_columns(\"salinities\")"
   ]
  },
  {
   "cell_type": "code",
   "execution_count": 7,
   "metadata": {},
   "outputs": [
    {
     "name": "stdout",
     "output_type": "stream",
     "text": [
      "- dh_no (int64)\n",
      "- unit_hyphen (str)\n",
      "- obs_no (str)\n",
      "- sample_no (int64)\n",
      "- collected_date (datetime64[ns])\n",
      "- analysis_code (str)\n",
      "- analysis_name (str)\n",
      "- value (float64)\n",
      "- unit (str)\n"
     ]
    }
   ],
   "source": [
    "get_columns(\"water_chem\")"
   ]
  },
  {
   "cell_type": "code",
   "execution_count": 8,
   "metadata": {},
   "outputs": [
    {
     "name": "stdout",
     "output_type": "stream",
     "text": [
      "- dh_no (int64)\n",
      "- unit_hyphen (str)\n",
      "- obs_no (str)\n",
      "- network (str)\n",
      "- elev_date (datetime64[ns])\n",
      "- ground_elev (float64)\n",
      "- ref_elev (float64)\n",
      "- survey_meth (str)\n",
      "- vert_accuracy (float64)\n",
      "- ref_point_type (str)\n",
      "- applied_date (datetime64[ns])\n",
      "- comments (str)\n"
     ]
    }
   ],
   "source": [
    "get_columns(\"elevation_surveys\")"
   ]
  },
  {
   "cell_type": "code",
   "execution_count": 9,
   "metadata": {},
   "outputs": [
    {
     "name": "stdout",
     "output_type": "stream",
     "text": [
      "- dh_no (int64)\n",
      "- unit_hyphen (str)\n",
      "- obs_no (str)\n",
      "- completion_date (datetime64[ns])\n",
      "- total_depth (float64)\n",
      "- final_depth (float64)\n",
      "- current_depth (float64)\n",
      "- permit_no (float64)\n",
      "- backfilled (str)\n",
      "- casing_from (float64)\n",
      "- casing_to (float64)\n",
      "- casing_min_diam (float64)\n",
      "- casing_material (str)\n",
      "- pcemented (str)\n",
      "- pcement_from (float64)\n",
      "- pcement_to (float64)\n",
      "- pzone_from (float64)\n",
      "- pzone_to (float64)\n",
      "- pzone_min_diam (float64)\n",
      "- pzone_type (str)\n",
      "- pzone_material (str)\n",
      "- pzone_aperture (float64)\n",
      "- drill_from (float64)\n",
      "- drill_to (float64)\n",
      "- drill_diam (float64)\n",
      "- drill_method (str)\n",
      "- development_method (str)\n",
      "- development_duration (float64)\n",
      "- comments (str)\n"
     ]
    }
   ],
   "source": [
    "get_columns(\"construction_events\")"
   ]
  },
  {
   "cell_type": "code",
   "execution_count": 14,
   "metadata": {},
   "outputs": [],
   "source": [
    "def get_columns_from_dict(func_name):\n",
    "    dfzip = getattr(sa_gwdata, func_name)(wells)\n",
    "    for name, df in dfzip.items():\n",
    "        print(name)\n",
    "        for col in df.columns:\n",
    "            dtype = df[col].dtype\n",
    "            if dtype == \"object\":\n",
    "                dtype = \"str\"\n",
    "            print(f\"- {col} ({dtype})\")\n",
    "        print()"
   ]
  },
  {
   "cell_type": "code",
   "execution_count": 15,
   "metadata": {},
   "outputs": [
    {
     "name": "stdout",
     "output_type": "stream",
     "text": [
      "water_cuts\n",
      "- dh_no (int64)\n",
      "- unit_hyphen (str)\n",
      "- water_cut_date (datetime64[ns])\n",
      "- depth_from (float64)\n",
      "- depth_to (float64)\n",
      "- swl (float64)\n",
      "- yield (float64)\n",
      "- test_method (str)\n",
      "- tds (float64)\n",
      "- ec (float64)\n",
      "- sample_type (str)\n",
      "\n",
      "drilling\n",
      "- dh_no (int64)\n",
      "- unit_hyphen (str)\n",
      "- depth_from (float64)\n",
      "- depth_to (float64)\n",
      "- hole_diam (float64)\n",
      "- drill_method (str)\n",
      "- comments (str)\n",
      "\n",
      "casing\n",
      "- dh_no (int64)\n",
      "- unit_hyphen (str)\n",
      "- depth_from (float64)\n",
      "- depth_to (float64)\n",
      "- casing_diam (int64)\n",
      "- casing_material (str)\n",
      "- cement_method (str)\n",
      "- cement_from (float64)\n",
      "- cement_to (float64)\n",
      "- comments (str)\n",
      "\n",
      "prod_zones\n",
      "- dh_no (int64)\n",
      "- unit_hyphen (str)\n",
      "- pzone_type (str)\n",
      "- depth_from (float64)\n",
      "- depth_to (float64)\n",
      "- pzone_diam (float64)\n",
      "- pzone_material (str)\n",
      "- pzone_aperture (float64)\n",
      "- comments (str)\n",
      "\n"
     ]
    }
   ],
   "source": [
    "get_columns_from_dict(\"construction_details\")"
   ]
  },
  {
   "cell_type": "code",
   "execution_count": 16,
   "metadata": {},
   "outputs": [
    {
     "name": "stdout",
     "output_type": "stream",
     "text": [
      "- dh_no (int64)\n",
      "- unit_hyphen (str)\n",
      "- obs_no (str)\n",
      "- log_date (datetime64[ns])\n",
      "- logger_name (str)\n",
      "- depth_from (float64)\n",
      "- depth_to (float64)\n",
      "- lith_code (str)\n",
      "- description (str)\n"
     ]
    }
   ],
   "source": [
    "get_columns(\"drillers_logs\")"
   ]
  },
  {
   "cell_type": "code",
   "execution_count": 17,
   "metadata": {},
   "outputs": [
    {
     "name": "stdout",
     "output_type": "stream",
     "text": [
      "- dh_no (int64)\n",
      "- unit_hyphen (str)\n",
      "- depth_from (float64)\n",
      "- depth_to (float64)\n",
      "- strat_name (str)\n",
      "- gis_code (str)\n"
     ]
    }
   ],
   "source": [
    "get_columns(\"strat_logs\")"
   ]
  },
  {
   "cell_type": "code",
   "execution_count": 18,
   "metadata": {},
   "outputs": [
    {
     "name": "stdout",
     "output_type": "stream",
     "text": [
      "- dh_no (int64)\n",
      "- unit_hyphen (str)\n",
      "- unit_depth_from (float64)\n",
      "- unit_depth_to (float64)\n",
      "- subunit_depth_from (float64)\n",
      "- subunit_depth_to (float64)\n",
      "- hydro_type (float64)\n",
      "- hydro_depth_to_greater_flag (str)\n",
      "- comments (str)\n",
      "- map_symbol (str)\n",
      "- strat_name (str)\n",
      "- subunit_comments (float64)\n",
      "- subunit_code (float64)\n",
      "- subunit_desc (float64)\n"
     ]
    }
   ],
   "source": [
    "get_columns(\"hydrostrat_logs\")"
   ]
  },
  {
   "cell_type": "code",
   "execution_count": 19,
   "metadata": {},
   "outputs": [
    {
     "name": "stdout",
     "output_type": "stream",
     "text": [
      "- dh_no (int64)\n",
      "- unit_hyphen (str)\n",
      "- obs_no (str)\n",
      "- depth_from (float64)\n",
      "- depth_to (float64)\n",
      "- major_lith_code (str)\n",
      "- minor_lith_code (str)\n",
      "- descr (str)\n"
     ]
    }
   ],
   "source": [
    "get_columns(\"lith_logs\")"
   ]
  },
  {
   "cell_type": "code",
   "execution_count": null,
   "metadata": {},
   "outputs": [],
   "source": []
  }
 ],
 "metadata": {
  "kernelspec": {
   "display_name": "dev",
   "language": "python",
   "name": "dev"
  },
  "language_info": {
   "codemirror_mode": {
    "name": "ipython",
    "version": 3
   },
   "file_extension": ".py",
   "mimetype": "text/x-python",
   "name": "python",
   "nbconvert_exporter": "python",
   "pygments_lexer": "ipython3",
   "version": "3.7.5"
  }
 },
 "nbformat": 4,
 "nbformat_minor": 2
}
