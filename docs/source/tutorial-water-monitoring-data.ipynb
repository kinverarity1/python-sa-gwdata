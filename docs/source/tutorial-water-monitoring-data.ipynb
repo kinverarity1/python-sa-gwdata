{
 "cells": [
  {
   "cell_type": "markdown",
   "id": "def4d1c0",
   "metadata": {},
   "source": [
    "# Tutorial: water monitoring data (WL, TDS)"
   ]
  },
  {
   "cell_type": "markdown",
   "id": "9fe5de06",
   "metadata": {},
   "source": [
    "This tutorial covers water level and salinity monitoring data\n",
    "\n",
    "We will download the relevant data using this package (python-sa-gwdata) -- importable as ``sa_gwdata`` -- and use some other packages for other things:\n",
    "\n",
    "- matplotlib, numpy, pandas - used in the background"
   ]
  },
  {
   "cell_type": "code",
   "execution_count": 72,
   "id": "2c4077de",
   "metadata": {},
   "outputs": [],
   "source": [
    "import sa_gwdata\n",
    "\n",
    "import pandas as pd\n",
    "import matplotlib.pyplot as plt\n",
    "import geopandas as gpd\n",
    "# import contextily as cx"
   ]
  },
  {
   "cell_type": "markdown",
   "id": "6869cd0f",
   "metadata": {},
   "source": [
    "## Water level data\n",
    "\n",
    "I'll assume that you have already worked out which well you want to download data for - please see previous tutorials for how to find wells. We're going to look at data from a monitoring well near Port Lincoln: 6028-536 (also known as obswell FLN029).\n",
    "\n",
    "First we need to make sure we have correctly identified the well, and obtain its drillhole number:"
   ]
  },
  {
   "cell_type": "code",
   "execution_count": 73,
   "id": "1ce05632",
   "metadata": {},
   "outputs": [],
   "source": [
    "wells = sa_gwdata.find_wells(\"6028-536\")"
   ]
  },
  {
   "cell_type": "code",
   "execution_count": 74,
   "id": "d85c0ecb",
   "metadata": {},
   "outputs": [
    {
     "data": {
      "text/plain": [
       "['FLN029']"
      ]
     },
     "execution_count": 74,
     "metadata": {},
     "output_type": "execute_result"
    }
   ],
   "source": [
    "wells"
   ]
  },
  {
   "cell_type": "code",
   "execution_count": 75,
   "id": "6dd1c6e3",
   "metadata": {},
   "outputs": [
    {
     "name": "stdout",
     "output_type": "stream",
     "text": [
      "<class 'pandas.core.frame.DataFrame'>\n",
      "RangeIndex: 561 entries, 0 to 560\n",
      "Data columns (total 21 columns):\n",
      " #   Column           Non-Null Count  Dtype         \n",
      "---  ------           --------------  -----         \n",
      " 0   dh_no            561 non-null    int64         \n",
      " 1   network          561 non-null    object        \n",
      " 2   unit_long        561 non-null    int64         \n",
      " 3   aquifer          561 non-null    object        \n",
      " 4   easting          561 non-null    float64       \n",
      " 5   northing         561 non-null    float64       \n",
      " 6   zone             561 non-null    int64         \n",
      " 7   unit_hyphen      561 non-null    object        \n",
      " 8   obs_no           561 non-null    object        \n",
      " 9   obs_date         561 non-null    datetime64[ns]\n",
      " 10  dtw              560 non-null    float64       \n",
      " 11  swl              560 non-null    float64       \n",
      " 12  rswl             560 non-null    float64       \n",
      " 13  pressure         0 non-null      float64       \n",
      " 14  temperature      0 non-null      float64       \n",
      " 15  dry_ind          0 non-null      float64       \n",
      " 16  anomalous_ind    561 non-null    object        \n",
      " 17  pump_ind         561 non-null    object        \n",
      " 18  measured_during  561 non-null    object        \n",
      " 19  data_source      561 non-null    object        \n",
      " 20  comments         4 non-null      object        \n",
      "dtypes: datetime64[ns](1), float64(8), int64(3), object(9)\n",
      "memory usage: 92.2+ KB\n"
     ]
    }
   ],
   "source": [
    "df = sa_gwdata.water_levels(wells)\n",
    "df.info()"
   ]
  },
  {
   "cell_type": "code",
   "execution_count": 76,
   "id": "dd08c248",
   "metadata": {},
   "outputs": [
    {
     "data": {
      "text/html": [
       "<div>\n",
       "<style scoped>\n",
       "    .dataframe tbody tr th:only-of-type {\n",
       "        vertical-align: middle;\n",
       "    }\n",
       "\n",
       "    .dataframe tbody tr th {\n",
       "        vertical-align: top;\n",
       "    }\n",
       "\n",
       "    .dataframe thead th {\n",
       "        text-align: right;\n",
       "    }\n",
       "</style>\n",
       "<table border=\"1\" class=\"dataframe\">\n",
       "  <thead>\n",
       "    <tr style=\"text-align: right;\">\n",
       "      <th></th>\n",
       "      <th>obs_date</th>\n",
       "      <th>dtw</th>\n",
       "      <th>swl</th>\n",
       "      <th>rswl</th>\n",
       "      <th>anomalous_ind</th>\n",
       "      <th>comments</th>\n",
       "    </tr>\n",
       "  </thead>\n",
       "  <tbody>\n",
       "    <tr>\n",
       "      <th>0</th>\n",
       "      <td>1959-02-26</td>\n",
       "      <td>10.67</td>\n",
       "      <td>10.67</td>\n",
       "      <td>1.67</td>\n",
       "      <td>N</td>\n",
       "      <td>NaN</td>\n",
       "    </tr>\n",
       "    <tr>\n",
       "      <th>1</th>\n",
       "      <td>1960-02-11</td>\n",
       "      <td>10.76</td>\n",
       "      <td>10.76</td>\n",
       "      <td>1.58</td>\n",
       "      <td>N</td>\n",
       "      <td>NaN</td>\n",
       "    </tr>\n",
       "    <tr>\n",
       "      <th>2</th>\n",
       "      <td>1964-11-04</td>\n",
       "      <td>10.70</td>\n",
       "      <td>10.70</td>\n",
       "      <td>1.64</td>\n",
       "      <td>N</td>\n",
       "      <td>NaN</td>\n",
       "    </tr>\n",
       "    <tr>\n",
       "      <th>3</th>\n",
       "      <td>1965-10-06</td>\n",
       "      <td>10.96</td>\n",
       "      <td>10.96</td>\n",
       "      <td>1.38</td>\n",
       "      <td>N</td>\n",
       "      <td>NaN</td>\n",
       "    </tr>\n",
       "    <tr>\n",
       "      <th>4</th>\n",
       "      <td>1966-01-06</td>\n",
       "      <td>11.01</td>\n",
       "      <td>11.01</td>\n",
       "      <td>1.33</td>\n",
       "      <td>N</td>\n",
       "      <td>NaN</td>\n",
       "    </tr>\n",
       "    <tr>\n",
       "      <th>...</th>\n",
       "      <td>...</td>\n",
       "      <td>...</td>\n",
       "      <td>...</td>\n",
       "      <td>...</td>\n",
       "      <td>...</td>\n",
       "      <td>...</td>\n",
       "    </tr>\n",
       "    <tr>\n",
       "      <th>556</th>\n",
       "      <td>2020-03-17</td>\n",
       "      <td>12.83</td>\n",
       "      <td>12.25</td>\n",
       "      <td>0.09</td>\n",
       "      <td>N</td>\n",
       "      <td>NaN</td>\n",
       "    </tr>\n",
       "    <tr>\n",
       "      <th>557</th>\n",
       "      <td>2020-10-11</td>\n",
       "      <td>12.80</td>\n",
       "      <td>12.22</td>\n",
       "      <td>0.12</td>\n",
       "      <td>N</td>\n",
       "      <td>NaN</td>\n",
       "    </tr>\n",
       "    <tr>\n",
       "      <th>558</th>\n",
       "      <td>2021-03-20</td>\n",
       "      <td>12.89</td>\n",
       "      <td>12.31</td>\n",
       "      <td>0.03</td>\n",
       "      <td>N</td>\n",
       "      <td>NaN</td>\n",
       "    </tr>\n",
       "    <tr>\n",
       "      <th>559</th>\n",
       "      <td>2021-10-26</td>\n",
       "      <td>12.87</td>\n",
       "      <td>12.29</td>\n",
       "      <td>0.05</td>\n",
       "      <td>N</td>\n",
       "      <td>NaN</td>\n",
       "    </tr>\n",
       "    <tr>\n",
       "      <th>560</th>\n",
       "      <td>2022-04-11</td>\n",
       "      <td>12.96</td>\n",
       "      <td>12.38</td>\n",
       "      <td>-0.04</td>\n",
       "      <td>N</td>\n",
       "      <td>NaN</td>\n",
       "    </tr>\n",
       "  </tbody>\n",
       "</table>\n",
       "<p>561 rows × 6 columns</p>\n",
       "</div>"
      ],
      "text/plain": [
       "      obs_date    dtw    swl  rswl anomalous_ind comments\n",
       "0   1959-02-26  10.67  10.67  1.67             N      NaN\n",
       "1   1960-02-11  10.76  10.76  1.58             N      NaN\n",
       "2   1964-11-04  10.70  10.70  1.64             N      NaN\n",
       "3   1965-10-06  10.96  10.96  1.38             N      NaN\n",
       "4   1966-01-06  11.01  11.01  1.33             N      NaN\n",
       "..         ...    ...    ...   ...           ...      ...\n",
       "556 2020-03-17  12.83  12.25  0.09             N      NaN\n",
       "557 2020-10-11  12.80  12.22  0.12             N      NaN\n",
       "558 2021-03-20  12.89  12.31  0.03             N      NaN\n",
       "559 2021-10-26  12.87  12.29  0.05             N      NaN\n",
       "560 2022-04-11  12.96  12.38 -0.04             N      NaN\n",
       "\n",
       "[561 rows x 6 columns]"
      ]
     },
     "execution_count": 76,
     "metadata": {},
     "output_type": "execute_result"
    }
   ],
   "source": [
    "df[['obs_date', 'dtw', 'swl', 'rswl', 'anomalous_ind', 'comments']]"
   ]
  },
  {
   "cell_type": "code",
   "execution_count": 77,
   "id": "109f3608",
   "metadata": {},
   "outputs": [
    {
     "data": {
      "image/png": "[encoded data removed]",
      "text/plain": [
       "<Figure size 576x360 with 1 Axes>"
      ]
     },
     "metadata": {
      "needs_background": "light"
     },
     "output_type": "display_data"
    }
   ],
   "source": [
    "fig = plt.figure(figsize=(8, 5))\n",
    "ax = fig.add_subplot(111)\n",
    "\n",
    "ax.plot(df.obs_date, df.swl, marker='x')\n",
    "ax.invert_yaxis()"
   ]
  },
  {
   "cell_type": "markdown",
   "id": "f0d019aa",
   "metadata": {},
   "source": [
    "### Anomalous data points\n",
    "\n",
    "Note the three outliers. These have actually been flagged as anomalous:"
   ]
  },
  {
   "cell_type": "code",
   "execution_count": 78,
   "id": "95c4d0d8",
   "metadata": {},
   "outputs": [
    {
     "data": {
      "text/html": [
       "<div>\n",
       "<style scoped>\n",
       "    .dataframe tbody tr th:only-of-type {\n",
       "        vertical-align: middle;\n",
       "    }\n",
       "\n",
       "    .dataframe tbody tr th {\n",
       "        vertical-align: top;\n",
       "    }\n",
       "\n",
       "    .dataframe thead th {\n",
       "        text-align: right;\n",
       "    }\n",
       "</style>\n",
       "<table border=\"1\" class=\"dataframe\">\n",
       "  <thead>\n",
       "    <tr style=\"text-align: right;\">\n",
       "      <th></th>\n",
       "      <th>obs_date</th>\n",
       "      <th>dtw</th>\n",
       "      <th>swl</th>\n",
       "      <th>rswl</th>\n",
       "      <th>anomalous_ind</th>\n",
       "      <th>comments</th>\n",
       "    </tr>\n",
       "  </thead>\n",
       "  <tbody>\n",
       "    <tr>\n",
       "      <th>493</th>\n",
       "      <td>2014-01-13</td>\n",
       "      <td>12.61</td>\n",
       "      <td>12.03</td>\n",
       "      <td>0.31</td>\n",
       "      <td>N</td>\n",
       "      <td>NaN</td>\n",
       "    </tr>\n",
       "    <tr>\n",
       "      <th>494</th>\n",
       "      <td>2014-02-10</td>\n",
       "      <td>12.64</td>\n",
       "      <td>12.06</td>\n",
       "      <td>0.28</td>\n",
       "      <td>N</td>\n",
       "      <td>NaN</td>\n",
       "    </tr>\n",
       "    <tr>\n",
       "      <th>495</th>\n",
       "      <td>2014-03-11</td>\n",
       "      <td>12.67</td>\n",
       "      <td>12.09</td>\n",
       "      <td>0.25</td>\n",
       "      <td>N</td>\n",
       "      <td>NaN</td>\n",
       "    </tr>\n",
       "    <tr>\n",
       "      <th>496</th>\n",
       "      <td>2014-04-09</td>\n",
       "      <td>12.68</td>\n",
       "      <td>12.10</td>\n",
       "      <td>0.24</td>\n",
       "      <td>N</td>\n",
       "      <td>NaN</td>\n",
       "    </tr>\n",
       "    <tr>\n",
       "      <th>497</th>\n",
       "      <td>2014-05-04</td>\n",
       "      <td>12.70</td>\n",
       "      <td>12.12</td>\n",
       "      <td>0.22</td>\n",
       "      <td>N</td>\n",
       "      <td>NaN</td>\n",
       "    </tr>\n",
       "    <tr>\n",
       "      <th>498</th>\n",
       "      <td>2014-05-05</td>\n",
       "      <td>12.70</td>\n",
       "      <td>12.12</td>\n",
       "      <td>0.22</td>\n",
       "      <td>N</td>\n",
       "      <td>NaN</td>\n",
       "    </tr>\n",
       "    <tr>\n",
       "      <th>499</th>\n",
       "      <td>2014-06-04</td>\n",
       "      <td>12.71</td>\n",
       "      <td>12.13</td>\n",
       "      <td>0.21</td>\n",
       "      <td>N</td>\n",
       "      <td>NaN</td>\n",
       "    </tr>\n",
       "    <tr>\n",
       "      <th>500</th>\n",
       "      <td>2014-07-28</td>\n",
       "      <td>12.61</td>\n",
       "      <td>12.03</td>\n",
       "      <td>0.31</td>\n",
       "      <td>N</td>\n",
       "      <td>NaN</td>\n",
       "    </tr>\n",
       "    <tr>\n",
       "      <th>501</th>\n",
       "      <td>2014-08-25</td>\n",
       "      <td>12.60</td>\n",
       "      <td>12.02</td>\n",
       "      <td>0.32</td>\n",
       "      <td>N</td>\n",
       "      <td>NaN</td>\n",
       "    </tr>\n",
       "    <tr>\n",
       "      <th>502</th>\n",
       "      <td>2014-09-22</td>\n",
       "      <td>16.58</td>\n",
       "      <td>16.00</td>\n",
       "      <td>-3.66</td>\n",
       "      <td>Y</td>\n",
       "      <td>Transcription error</td>\n",
       "    </tr>\n",
       "    <tr>\n",
       "      <th>503</th>\n",
       "      <td>2014-10-22</td>\n",
       "      <td>12.59</td>\n",
       "      <td>12.01</td>\n",
       "      <td>0.33</td>\n",
       "      <td>N</td>\n",
       "      <td>NaN</td>\n",
       "    </tr>\n",
       "    <tr>\n",
       "      <th>504</th>\n",
       "      <td>2014-11-17</td>\n",
       "      <td>12.59</td>\n",
       "      <td>12.01</td>\n",
       "      <td>0.33</td>\n",
       "      <td>N</td>\n",
       "      <td>NaN</td>\n",
       "    </tr>\n",
       "    <tr>\n",
       "      <th>505</th>\n",
       "      <td>2014-12-15</td>\n",
       "      <td>12.59</td>\n",
       "      <td>12.01</td>\n",
       "      <td>0.33</td>\n",
       "      <td>N</td>\n",
       "      <td>NaN</td>\n",
       "    </tr>\n",
       "  </tbody>\n",
       "</table>\n",
       "</div>"
      ],
      "text/plain": [
       "      obs_date    dtw    swl  rswl anomalous_ind             comments\n",
       "493 2014-01-13  12.61  12.03  0.31             N                  NaN\n",
       "494 2014-02-10  12.64  12.06  0.28             N                  NaN\n",
       "495 2014-03-11  12.67  12.09  0.25             N                  NaN\n",
       "496 2014-04-09  12.68  12.10  0.24             N                  NaN\n",
       "497 2014-05-04  12.70  12.12  0.22             N                  NaN\n",
       "498 2014-05-05  12.70  12.12  0.22             N                  NaN\n",
       "499 2014-06-04  12.71  12.13  0.21             N                  NaN\n",
       "500 2014-07-28  12.61  12.03  0.31             N                  NaN\n",
       "501 2014-08-25  12.60  12.02  0.32             N                  NaN\n",
       "502 2014-09-22  16.58  16.00 -3.66             Y  Transcription error\n",
       "503 2014-10-22  12.59  12.01  0.33             N                  NaN\n",
       "504 2014-11-17  12.59  12.01  0.33             N                  NaN\n",
       "505 2014-12-15  12.59  12.01  0.33             N                  NaN"
      ]
     },
     "execution_count": 78,
     "metadata": {},
     "output_type": "execute_result"
    }
   ],
   "source": [
    "df[df.obs_date.dt.year == 2014][['obs_date', 'dtw', 'swl', 'rswl', 'anomalous_ind', 'comments']]"
   ]
  },
  {
   "cell_type": "markdown",
   "id": "b09e3b77",
   "metadata": {},
   "source": [
    "And if you want, you can opt to always exclude \"anomalous\" readings, although it is should be noted the definition of \"anomalous\" is somewhat subjective:"
   ]
  },
  {
   "cell_type": "code",
   "execution_count": 79,
   "id": "5e391a59",
   "metadata": {},
   "outputs": [
    {
     "data": {
      "text/html": [
       "<div>\n",
       "<style scoped>\n",
       "    .dataframe tbody tr th:only-of-type {\n",
       "        vertical-align: middle;\n",
       "    }\n",
       "\n",
       "    .dataframe tbody tr th {\n",
       "        vertical-align: top;\n",
       "    }\n",
       "\n",
       "    .dataframe thead th {\n",
       "        text-align: right;\n",
       "    }\n",
       "</style>\n",
       "<table border=\"1\" class=\"dataframe\">\n",
       "  <thead>\n",
       "    <tr style=\"text-align: right;\">\n",
       "      <th></th>\n",
       "      <th>obs_date</th>\n",
       "      <th>dtw</th>\n",
       "      <th>swl</th>\n",
       "      <th>rswl</th>\n",
       "      <th>anomalous_ind</th>\n",
       "      <th>comments</th>\n",
       "    </tr>\n",
       "  </thead>\n",
       "  <tbody>\n",
       "    <tr>\n",
       "      <th>493</th>\n",
       "      <td>2014-01-13</td>\n",
       "      <td>12.61</td>\n",
       "      <td>12.03</td>\n",
       "      <td>0.31</td>\n",
       "      <td>N</td>\n",
       "      <td>NaN</td>\n",
       "    </tr>\n",
       "    <tr>\n",
       "      <th>494</th>\n",
       "      <td>2014-02-10</td>\n",
       "      <td>12.64</td>\n",
       "      <td>12.06</td>\n",
       "      <td>0.28</td>\n",
       "      <td>N</td>\n",
       "      <td>NaN</td>\n",
       "    </tr>\n",
       "    <tr>\n",
       "      <th>495</th>\n",
       "      <td>2014-03-11</td>\n",
       "      <td>12.67</td>\n",
       "      <td>12.09</td>\n",
       "      <td>0.25</td>\n",
       "      <td>N</td>\n",
       "      <td>NaN</td>\n",
       "    </tr>\n",
       "    <tr>\n",
       "      <th>496</th>\n",
       "      <td>2014-04-09</td>\n",
       "      <td>12.68</td>\n",
       "      <td>12.10</td>\n",
       "      <td>0.24</td>\n",
       "      <td>N</td>\n",
       "      <td>NaN</td>\n",
       "    </tr>\n",
       "    <tr>\n",
       "      <th>497</th>\n",
       "      <td>2014-05-04</td>\n",
       "      <td>12.70</td>\n",
       "      <td>12.12</td>\n",
       "      <td>0.22</td>\n",
       "      <td>N</td>\n",
       "      <td>NaN</td>\n",
       "    </tr>\n",
       "    <tr>\n",
       "      <th>498</th>\n",
       "      <td>2014-05-05</td>\n",
       "      <td>12.70</td>\n",
       "      <td>12.12</td>\n",
       "      <td>0.22</td>\n",
       "      <td>N</td>\n",
       "      <td>NaN</td>\n",
       "    </tr>\n",
       "    <tr>\n",
       "      <th>499</th>\n",
       "      <td>2014-06-04</td>\n",
       "      <td>12.71</td>\n",
       "      <td>12.13</td>\n",
       "      <td>0.21</td>\n",
       "      <td>N</td>\n",
       "      <td>NaN</td>\n",
       "    </tr>\n",
       "    <tr>\n",
       "      <th>500</th>\n",
       "      <td>2014-07-28</td>\n",
       "      <td>12.61</td>\n",
       "      <td>12.03</td>\n",
       "      <td>0.31</td>\n",
       "      <td>N</td>\n",
       "      <td>NaN</td>\n",
       "    </tr>\n",
       "    <tr>\n",
       "      <th>501</th>\n",
       "      <td>2014-08-25</td>\n",
       "      <td>12.60</td>\n",
       "      <td>12.02</td>\n",
       "      <td>0.32</td>\n",
       "      <td>N</td>\n",
       "      <td>NaN</td>\n",
       "    </tr>\n",
       "    <tr>\n",
       "      <th>502</th>\n",
       "      <td>2014-10-22</td>\n",
       "      <td>12.59</td>\n",
       "      <td>12.01</td>\n",
       "      <td>0.33</td>\n",
       "      <td>N</td>\n",
       "      <td>NaN</td>\n",
       "    </tr>\n",
       "    <tr>\n",
       "      <th>503</th>\n",
       "      <td>2014-11-17</td>\n",
       "      <td>12.59</td>\n",
       "      <td>12.01</td>\n",
       "      <td>0.33</td>\n",
       "      <td>N</td>\n",
       "      <td>NaN</td>\n",
       "    </tr>\n",
       "    <tr>\n",
       "      <th>504</th>\n",
       "      <td>2014-12-15</td>\n",
       "      <td>12.59</td>\n",
       "      <td>12.01</td>\n",
       "      <td>0.33</td>\n",
       "      <td>N</td>\n",
       "      <td>NaN</td>\n",
       "    </tr>\n",
       "  </tbody>\n",
       "</table>\n",
       "</div>"
      ],
      "text/plain": [
       "      obs_date    dtw    swl  rswl anomalous_ind comments\n",
       "493 2014-01-13  12.61  12.03  0.31             N      NaN\n",
       "494 2014-02-10  12.64  12.06  0.28             N      NaN\n",
       "495 2014-03-11  12.67  12.09  0.25             N      NaN\n",
       "496 2014-04-09  12.68  12.10  0.24             N      NaN\n",
       "497 2014-05-04  12.70  12.12  0.22             N      NaN\n",
       "498 2014-05-05  12.70  12.12  0.22             N      NaN\n",
       "499 2014-06-04  12.71  12.13  0.21             N      NaN\n",
       "500 2014-07-28  12.61  12.03  0.31             N      NaN\n",
       "501 2014-08-25  12.60  12.02  0.32             N      NaN\n",
       "502 2014-10-22  12.59  12.01  0.33             N      NaN\n",
       "503 2014-11-17  12.59  12.01  0.33             N      NaN\n",
       "504 2014-12-15  12.59  12.01  0.33             N      NaN"
      ]
     },
     "execution_count": 79,
     "metadata": {},
     "output_type": "execute_result"
    }
   ],
   "source": [
    "df = sa_gwdata.water_levels(wells, anomalous=False)\n",
    "df[df.obs_date.dt.year == 2014][['obs_date', 'dtw', 'swl', 'rswl', 'anomalous_ind', 'comments']]"
   ]
  },
  {
   "cell_type": "markdown",
   "id": "330b075e",
   "metadata": {},
   "source": [
    "### Groundwater level parameters\n",
    "\n",
    "There are three different water level parameters:\n",
    "    \n",
    "1. **dtw (Depth To Water)**: this is in metres measured below a reference point. So increasing numbers indicate an increasing depth to water. Negative numbers indicate flowing artesian conditions. The reference point's true elevation above ground surface *can* change i.e. if a casing standpipe is chopped off or installed, so although this number is what is in effect measured in the real world, it should not be used for analysis. \n",
    "2. **swl (Standing Water Level)**: this is the Depth To Water, automatically corrected such that it represents a depth below ground level, which should be constant in terms of its real-world elevation, except in very rare cases. Note that the property is the same as DTW, in the sense that as the number increases, the depth to groundwater is increasing. Negative numbers indicate flowing artesian conditions.\n",
    "3. **rswl (Reduced Standing Water Level)**: this value has been corrected to represent the groundwater level measured above Australian Height Datum (AHD). This means that as the number increases, the depth to groundwater is *decreasing* i.e. the groundwater elevation is increasing. Positive/negative numbers relate to the groundwater level compared to mean sea level, not the local ground elevation.\n",
    "\n",
    "RSWL values are only present when we have an elevation survey for that well (sometimes it will be derived from a digital elevation model and not a physical survey - care should obviously be taken with those). See the elevation tutorial - TODO.\n",
    "\n",
    "Note that there is no distinguishing between physical groundwater levels (i.e. the water table) and water levels as measured in a well which penetrates and provides access to a confined aquifer (i.e. a groundwater pressure level). Even wells which access confined groundwater with flowing artesian conditions, where the pressure level is measured using a pressure gauge at surface, have data reported using this method as \"Depth to Water\" (which would in that case be a negative number)."
   ]
  },
  {
   "cell_type": "markdown",
   "id": "9eca7ea5",
   "metadata": {},
   "source": [
    "To compare all of these parameters, see them on a chart:"
   ]
  },
  {
   "cell_type": "code",
   "execution_count": 80,
   "id": "d5f46ca8",
   "metadata": {},
   "outputs": [
    {
     "data": {
      "text/plain": [
       "<matplotlib.legend.Legend at 0x1a206d3dc00>"
      ]
     },
     "execution_count": 80,
     "metadata": {},
     "output_type": "execute_result"
    },
    {
     "data": {
      "image/png": "[encoded data removed]",
      "text/plain": [
       "<Figure size 576x360 with 2 Axes>"
      ]
     },
     "metadata": {
      "needs_background": "light"
     },
     "output_type": "display_data"
    }
   ],
   "source": [
    "fig = plt.figure(figsize=(8, 5))\n",
    "ax = fig.add_subplot(111)\n",
    "ax.plot(df.obs_date, df.dtw, label='dtw', color='tab:blue')\n",
    "ax.plot(df.obs_date, df.swl, label='swl', color='tab:green', lw=12, alpha=0.3)\n",
    "ax.plot([], [], label='rswl', color='tab:red', alpha=1, lw=2, ls=':')\n",
    "ax.invert_yaxis()\n",
    "span = 2.5\n",
    "ax_top = 10.6\n",
    "ax2_top = 1.75\n",
    "ax.set_ylim(ax_top + span, ax_top)\n",
    "ax.set_ylabel('dtw & swl', color='black')\n",
    "ax2 = ax.twinx()\n",
    "ax2.plot(df.obs_date, df.rswl, label='rswl', color='tab:red', alpha=1, lw=2, ls=':')\n",
    "ax2.set_ylim(ax2_top - span, ax2_top)\n",
    "ax2.set_ylabel('rswl', color='red')\n",
    "ax.legend()"
   ]
  },
  {
   "cell_type": "markdown",
   "id": "d0a43460",
   "metadata": {},
   "source": [
    "Note the change in casing reference point around 1990 - clearly a casing standpipe was installed, because overnight, the depth to water increased by about one metre, and the new measurements were being made from the top of the standpipe, instead of ground level."
   ]
  },
  {
   "cell_type": "markdown",
   "id": "4cc3bb37",
   "metadata": {},
   "source": [
    "### Measured during!\n",
    "\n",
    "There is a metadata property attached to water level and salinity data called \"measured during\". This indicates what kind of activity the data was obtained during, and it is a good way to filter out irrelevant measurements from relevant ones in terms of monitoring.\n",
    "\n",
    "These are the values that measured_during can take:"
   ]
  },
  {
   "cell_type": "code",
   "execution_count": 137,
   "id": "fd45afd4",
   "metadata": {},
   "outputs": [],
   "source": [
    "meas_during_lut = {\n",
    "    'A': 'Aquifer Test',\n",
    "    'D': 'Drilling',\n",
    "    'F': 'Field Survey',\n",
    "    'S': 'Final Sample on drilling completion',\n",
    "    'G': 'Geophysical Logging',\n",
    "    'L': 'Landowner Sample',\n",
    "    'M': 'Monitoring',\n",
    "    'R': 'Rehabilitation',\n",
    "    'U': 'Unknown',\n",
    "    'W': 'Well Yield',\n",
    "}"
   ]
  },
  {
   "cell_type": "markdown",
   "id": "81bf1190",
   "metadata": {},
   "source": [
    "An example is from well 6628-5103"
   ]
  },
  {
   "cell_type": "code",
   "execution_count": 134,
   "id": "ceebb6cd",
   "metadata": {},
   "outputs": [],
   "source": [
    "wells = sa_gwdata.find_wells('6628-5103')"
   ]
  },
  {
   "cell_type": "code",
   "execution_count": 135,
   "id": "b6f0c6fe",
   "metadata": {},
   "outputs": [],
   "source": [
    "df = sa_gwdata.water_levels(wells)"
   ]
  },
  {
   "cell_type": "code",
   "execution_count": 136,
   "id": "609cd805",
   "metadata": {},
   "outputs": [
    {
     "data": {
      "text/plain": [
       "M    142\n",
       "A      3\n",
       "Name: measured_during, dtype: int64"
      ]
     },
     "execution_count": 136,
     "metadata": {},
     "output_type": "execute_result"
    }
   ],
   "source": [
    "df.measured_during.value_counts()"
   ]
  },
  {
   "cell_type": "code",
   "execution_count": 142,
   "id": "802bcf11",
   "metadata": {},
   "outputs": [
    {
     "data": {
      "text/plain": [
       "<matplotlib.legend.Legend at 0x1a209db9900>"
      ]
     },
     "execution_count": 142,
     "metadata": {},
     "output_type": "execute_result"
    },
    {
     "data": {
      "image/png": "[encoded data removed]",
      "text/plain": [
       "<Figure size 576x360 with 1 Axes>"
      ]
     },
     "metadata": {
      "needs_background": "light"
     },
     "output_type": "display_data"
    }
   ],
   "source": [
    "fig = plt.figure(figsize=(8, 5))\n",
    "ax = fig.add_subplot(111)\n",
    "df[df.measured_during == 'M'].plot(ax=ax, x='obs_date', y='swl', color='tab:blue', marker='+', lw=0.5, label='Monitoring')\n",
    "df[df.measured_during == 'A'].plot(ax=ax, x='obs_date', y='swl', color='tab:red', marker='x', lw=0.5, label='Aquifer test')\n",
    "df.plot(ax=ax, x='obs_date', y='swl', lw=0.1, color='grey', label='all data')\n",
    "ax.legend()"
   ]
  },
  {
   "cell_type": "markdown",
   "id": "3f7fe096",
   "metadata": {},
   "source": [
    "As you can see, filtering to only retain measured during \"M\" (monitoring) is often a good idea for analysis of water level data."
   ]
  },
  {
   "cell_type": "code",
   "execution_count": null,
   "id": "72e596ff",
   "metadata": {},
   "outputs": [],
   "source": []
  }
 ],
 "metadata": {
  "kernelspec": {
   "display_name": "Python 3 (ipykernel)",
   "language": "python",
   "name": "python3"
  },
  "language_info": {
   "codemirror_mode": {
    "name": "ipython",
    "version": 3
   },
   "file_extension": ".py",
   "mimetype": "text/x-python",
   "name": "python",
   "nbconvert_exporter": "python",
   "pygments_lexer": "ipython3",
   "version": "3.10.5"
  }
 },
 "nbformat": 4,
 "nbformat_minor": 5
}
