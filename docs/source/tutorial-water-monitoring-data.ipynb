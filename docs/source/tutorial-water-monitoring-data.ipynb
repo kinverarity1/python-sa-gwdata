{
 "cells": [
  {
   "cell_type": "markdown",
   "id": "def4d1c0",
   "metadata": {},
   "source": [
    "# Tutorial: water monitoring data (WL, TDS)"
   ]
  },
  {
   "cell_type": "markdown",
   "id": "9fe5de06",
   "metadata": {},
   "source": [
    "This tutorial covers water level and salinity monitoring data\n",
    "\n",
    "We will download the relevant data using this package (python-sa-gwdata) -- importable as ``sa_gwdata`` -- and use some other packages for other things:\n",
    "\n",
    "- matplotlib, numpy, pandas - used in the background"
   ]
  },
  {
   "cell_type": "code",
   "execution_count": 1,
   "id": "2c4077de",
   "metadata": {},
   "outputs": [],
   "source": [
    "import sa_gwdata\n",
    "\n",
    "import pandas as pd\n",
    "import matplotlib.pyplot as plt\n",
    "import geopandas as gpd\n",
    "# import contextily as cx"
   ]
  },
  {
   "cell_type": "markdown",
   "id": "14baac0c",
   "metadata": {},
   "source": [
    "## Water level data\n",
    "\n",
    "I'll assume that you have already worked out which well you want to download data for - please see previous tutorials for how to find wells. We're going to look at data from a monitoring well near Port Lincoln: 6028-536 (also known as obswell FLN029).\n",
    "\n",
    "First we need to make sure we have correctly identified the well, and obtain its drillhole number:"
   ]
  },
  {
   "cell_type": "code",
   "execution_count": 2,
   "id": "038debfe",
   "metadata": {},
   "outputs": [],
   "source": [
    "wells = sa_gwdata.find_wells(\"6028-536\")"
   ]
  },
  {
   "cell_type": "code",
   "execution_count": 3,
   "id": "0f503d70",
   "metadata": {},
   "outputs": [
    {
     "data": {
      "text/plain": [
       "['FLN029']"
      ]
     },
     "execution_count": 3,
     "metadata": {},
     "output_type": "execute_result"
    }
   ],
   "source": [
    "wells"
   ]
  },
  {
   "cell_type": "code",
   "execution_count": 4,
   "id": "333e20b5",
   "metadata": {},
   "outputs": [
    {
     "name": "stdout",
     "output_type": "stream",
     "text": [
      "<class 'pandas.core.frame.DataFrame'>\n",
      "RangeIndex: 562 entries, 0 to 561\n",
      "Data columns (total 21 columns):\n",
      " #   Column           Non-Null Count  Dtype         \n",
      "---  ------           --------------  -----         \n",
      " 0   dh_no            562 non-null    int64         \n",
      " 1   network          562 non-null    object        \n",
      " 2   unit_long        562 non-null    int64         \n",
      " 3   aquifer          562 non-null    object        \n",
      " 4   easting          562 non-null    float64       \n",
      " 5   northing         562 non-null    float64       \n",
      " 6   zone             562 non-null    int64         \n",
      " 7   unit_hyphen      562 non-null    object        \n",
      " 8   obs_no           562 non-null    object        \n",
      " 9   obs_date         562 non-null    datetime64[ns]\n",
      " 10  dtw              561 non-null    float64       \n",
      " 11  swl              561 non-null    float64       \n",
      " 12  rswl             561 non-null    float64       \n",
      " 13  pressure         0 non-null      float64       \n",
      " 14  temperature      0 non-null      float64       \n",
      " 15  dry_ind          0 non-null      float64       \n",
      " 16  anomalous_ind    562 non-null    object        \n",
      " 17  pump_ind         562 non-null    object        \n",
      " 18  measured_during  562 non-null    object        \n",
      " 19  data_source      562 non-null    object        \n",
      " 20  comments         4 non-null      object        \n",
      "dtypes: datetime64[ns](1), float64(8), int64(3), object(9)\n",
      "memory usage: 92.3+ KB\n"
     ]
    }
   ],
   "source": [
    "df = sa_gwdata.water_levels(wells)\n",
    "df.info()"
   ]
  },
  {
   "cell_type": "code",
   "execution_count": 5,
   "id": "4fb3d673",
   "metadata": {},
   "outputs": [
    {
     "data": {
      "text/html": [
       "<div>\n",
       "<style scoped>\n",
       "    .dataframe tbody tr th:only-of-type {\n",
       "        vertical-align: middle;\n",
       "    }\n",
       "\n",
       "    .dataframe tbody tr th {\n",
       "        vertical-align: top;\n",
       "    }\n",
       "\n",
       "    .dataframe thead th {\n",
       "        text-align: right;\n",
       "    }\n",
       "</style>\n",
       "<table border=\"1\" class=\"dataframe\">\n",
       "  <thead>\n",
       "    <tr style=\"text-align: right;\">\n",
       "      <th></th>\n",
       "      <th>obs_date</th>\n",
       "      <th>dtw</th>\n",
       "      <th>swl</th>\n",
       "      <th>rswl</th>\n",
       "      <th>anomalous_ind</th>\n",
       "      <th>comments</th>\n",
       "    </tr>\n",
       "  </thead>\n",
       "  <tbody>\n",
       "    <tr>\n",
       "      <th>0</th>\n",
       "      <td>1959-02-26</td>\n",
       "      <td>10.67</td>\n",
       "      <td>10.67</td>\n",
       "      <td>1.67</td>\n",
       "      <td>N</td>\n",
       "      <td>NaN</td>\n",
       "    </tr>\n",
       "    <tr>\n",
       "      <th>1</th>\n",
       "      <td>1960-02-11</td>\n",
       "      <td>10.76</td>\n",
       "      <td>10.76</td>\n",
       "      <td>1.58</td>\n",
       "      <td>N</td>\n",
       "      <td>NaN</td>\n",
       "    </tr>\n",
       "    <tr>\n",
       "      <th>2</th>\n",
       "      <td>1964-11-04</td>\n",
       "      <td>10.70</td>\n",
       "      <td>10.70</td>\n",
       "      <td>1.64</td>\n",
       "      <td>N</td>\n",
       "      <td>NaN</td>\n",
       "    </tr>\n",
       "    <tr>\n",
       "      <th>3</th>\n",
       "      <td>1965-10-06</td>\n",
       "      <td>10.96</td>\n",
       "      <td>10.96</td>\n",
       "      <td>1.38</td>\n",
       "      <td>N</td>\n",
       "      <td>NaN</td>\n",
       "    </tr>\n",
       "    <tr>\n",
       "      <th>4</th>\n",
       "      <td>1966-01-06</td>\n",
       "      <td>11.01</td>\n",
       "      <td>11.01</td>\n",
       "      <td>1.33</td>\n",
       "      <td>N</td>\n",
       "      <td>NaN</td>\n",
       "    </tr>\n",
       "    <tr>\n",
       "      <th>...</th>\n",
       "      <td>...</td>\n",
       "      <td>...</td>\n",
       "      <td>...</td>\n",
       "      <td>...</td>\n",
       "      <td>...</td>\n",
       "      <td>...</td>\n",
       "    </tr>\n",
       "    <tr>\n",
       "      <th>557</th>\n",
       "      <td>2020-10-11</td>\n",
       "      <td>12.80</td>\n",
       "      <td>12.22</td>\n",
       "      <td>0.12</td>\n",
       "      <td>N</td>\n",
       "      <td>NaN</td>\n",
       "    </tr>\n",
       "    <tr>\n",
       "      <th>558</th>\n",
       "      <td>2021-03-20</td>\n",
       "      <td>12.89</td>\n",
       "      <td>12.31</td>\n",
       "      <td>0.03</td>\n",
       "      <td>N</td>\n",
       "      <td>NaN</td>\n",
       "    </tr>\n",
       "    <tr>\n",
       "      <th>559</th>\n",
       "      <td>2021-10-26</td>\n",
       "      <td>12.87</td>\n",
       "      <td>12.29</td>\n",
       "      <td>0.05</td>\n",
       "      <td>N</td>\n",
       "      <td>NaN</td>\n",
       "    </tr>\n",
       "    <tr>\n",
       "      <th>560</th>\n",
       "      <td>2022-04-11</td>\n",
       "      <td>12.96</td>\n",
       "      <td>12.38</td>\n",
       "      <td>-0.04</td>\n",
       "      <td>N</td>\n",
       "      <td>NaN</td>\n",
       "    </tr>\n",
       "    <tr>\n",
       "      <th>561</th>\n",
       "      <td>2022-10-07</td>\n",
       "      <td>12.90</td>\n",
       "      <td>12.32</td>\n",
       "      <td>0.02</td>\n",
       "      <td>N</td>\n",
       "      <td>NaN</td>\n",
       "    </tr>\n",
       "  </tbody>\n",
       "</table>\n",
       "<p>562 rows × 6 columns</p>\n",
       "</div>"
      ],
      "text/plain": [
       "      obs_date    dtw    swl  rswl anomalous_ind comments\n",
       "0   1959-02-26  10.67  10.67  1.67             N      NaN\n",
       "1   1960-02-11  10.76  10.76  1.58             N      NaN\n",
       "2   1964-11-04  10.70  10.70  1.64             N      NaN\n",
       "3   1965-10-06  10.96  10.96  1.38             N      NaN\n",
       "4   1966-01-06  11.01  11.01  1.33             N      NaN\n",
       "..         ...    ...    ...   ...           ...      ...\n",
       "557 2020-10-11  12.80  12.22  0.12             N      NaN\n",
       "558 2021-03-20  12.89  12.31  0.03             N      NaN\n",
       "559 2021-10-26  12.87  12.29  0.05             N      NaN\n",
       "560 2022-04-11  12.96  12.38 -0.04             N      NaN\n",
       "561 2022-10-07  12.90  12.32  0.02             N      NaN\n",
       "\n",
       "[562 rows x 6 columns]"
      ]
     },
     "execution_count": 5,
     "metadata": {},
     "output_type": "execute_result"
    }
   ],
   "source": [
    "df[['obs_date', 'dtw', 'swl', 'rswl', 'anomalous_ind', 'comments']]"
   ]
  },
  {
   "cell_type": "code",
   "execution_count": 6,
   "id": "62acda06",
   "metadata": {},
   "outputs": [
    {
     "data": {
      "image/png": "[encoded data removed]",
      "text/plain": [
       "<Figure size 576x360 with 1 Axes>"
      ]
     },
     "metadata": {
      "needs_background": "light"
     },
     "output_type": "display_data"
    }
   ],
   "source": [
    "fig = plt.figure(figsize=(8, 5))\n",
    "ax = fig.add_subplot(111)\n",
    "\n",
    "ax.plot(df.obs_date, df.swl, marker='x')\n",
    "ax.invert_yaxis()"
   ]
  },
  {
   "cell_type": "markdown",
   "id": "05bb0429",
   "metadata": {},
   "source": [
    "### Anomalous data points\n",
    "\n",
    "Note the three outliers. These have actually been flagged as anomalous:"
   ]
  },
  {
   "cell_type": "code",
   "execution_count": 7,
   "id": "3bd16470",
   "metadata": {},
   "outputs": [
    {
     "data": {
      "text/html": [
       "<div>\n",
       "<style scoped>\n",
       "    .dataframe tbody tr th:only-of-type {\n",
       "        vertical-align: middle;\n",
       "    }\n",
       "\n",
       "    .dataframe tbody tr th {\n",
       "        vertical-align: top;\n",
       "    }\n",
       "\n",
       "    .dataframe thead th {\n",
       "        text-align: right;\n",
       "    }\n",
       "</style>\n",
       "<table border=\"1\" class=\"dataframe\">\n",
       "  <thead>\n",
       "    <tr style=\"text-align: right;\">\n",
       "      <th></th>\n",
       "      <th>obs_date</th>\n",
       "      <th>dtw</th>\n",
       "      <th>swl</th>\n",
       "      <th>rswl</th>\n",
       "      <th>anomalous_ind</th>\n",
       "      <th>comments</th>\n",
       "    </tr>\n",
       "  </thead>\n",
       "  <tbody>\n",
       "    <tr>\n",
       "      <th>493</th>\n",
       "      <td>2014-01-13</td>\n",
       "      <td>12.61</td>\n",
       "      <td>12.03</td>\n",
       "      <td>0.31</td>\n",
       "      <td>N</td>\n",
       "      <td>NaN</td>\n",
       "    </tr>\n",
       "    <tr>\n",
       "      <th>494</th>\n",
       "      <td>2014-02-10</td>\n",
       "      <td>12.64</td>\n",
       "      <td>12.06</td>\n",
       "      <td>0.28</td>\n",
       "      <td>N</td>\n",
       "      <td>NaN</td>\n",
       "    </tr>\n",
       "    <tr>\n",
       "      <th>495</th>\n",
       "      <td>2014-03-11</td>\n",
       "      <td>12.67</td>\n",
       "      <td>12.09</td>\n",
       "      <td>0.25</td>\n",
       "      <td>N</td>\n",
       "      <td>NaN</td>\n",
       "    </tr>\n",
       "    <tr>\n",
       "      <th>496</th>\n",
       "      <td>2014-04-09</td>\n",
       "      <td>12.68</td>\n",
       "      <td>12.10</td>\n",
       "      <td>0.24</td>\n",
       "      <td>N</td>\n",
       "      <td>NaN</td>\n",
       "    </tr>\n",
       "    <tr>\n",
       "      <th>497</th>\n",
       "      <td>2014-05-04</td>\n",
       "      <td>12.70</td>\n",
       "      <td>12.12</td>\n",
       "      <td>0.22</td>\n",
       "      <td>N</td>\n",
       "      <td>NaN</td>\n",
       "    </tr>\n",
       "    <tr>\n",
       "      <th>498</th>\n",
       "      <td>2014-05-05</td>\n",
       "      <td>12.70</td>\n",
       "      <td>12.12</td>\n",
       "      <td>0.22</td>\n",
       "      <td>N</td>\n",
       "      <td>NaN</td>\n",
       "    </tr>\n",
       "    <tr>\n",
       "      <th>499</th>\n",
       "      <td>2014-06-04</td>\n",
       "      <td>12.71</td>\n",
       "      <td>12.13</td>\n",
       "      <td>0.21</td>\n",
       "      <td>N</td>\n",
       "      <td>NaN</td>\n",
       "    </tr>\n",
       "    <tr>\n",
       "      <th>500</th>\n",
       "      <td>2014-07-28</td>\n",
       "      <td>12.61</td>\n",
       "      <td>12.03</td>\n",
       "      <td>0.31</td>\n",
       "      <td>N</td>\n",
       "      <td>NaN</td>\n",
       "    </tr>\n",
       "    <tr>\n",
       "      <th>501</th>\n",
       "      <td>2014-08-25</td>\n",
       "      <td>12.60</td>\n",
       "      <td>12.02</td>\n",
       "      <td>0.32</td>\n",
       "      <td>N</td>\n",
       "      <td>NaN</td>\n",
       "    </tr>\n",
       "    <tr>\n",
       "      <th>502</th>\n",
       "      <td>2014-09-22</td>\n",
       "      <td>16.58</td>\n",
       "      <td>16.00</td>\n",
       "      <td>-3.66</td>\n",
       "      <td>Y</td>\n",
       "      <td>Transcription error</td>\n",
       "    </tr>\n",
       "    <tr>\n",
       "      <th>503</th>\n",
       "      <td>2014-10-22</td>\n",
       "      <td>12.59</td>\n",
       "      <td>12.01</td>\n",
       "      <td>0.33</td>\n",
       "      <td>N</td>\n",
       "      <td>NaN</td>\n",
       "    </tr>\n",
       "    <tr>\n",
       "      <th>504</th>\n",
       "      <td>2014-11-17</td>\n",
       "      <td>12.59</td>\n",
       "      <td>12.01</td>\n",
       "      <td>0.33</td>\n",
       "      <td>N</td>\n",
       "      <td>NaN</td>\n",
       "    </tr>\n",
       "    <tr>\n",
       "      <th>505</th>\n",
       "      <td>2014-12-15</td>\n",
       "      <td>12.59</td>\n",
       "      <td>12.01</td>\n",
       "      <td>0.33</td>\n",
       "      <td>N</td>\n",
       "      <td>NaN</td>\n",
       "    </tr>\n",
       "  </tbody>\n",
       "</table>\n",
       "</div>"
      ],
      "text/plain": [
       "      obs_date    dtw    swl  rswl anomalous_ind             comments\n",
       "493 2014-01-13  12.61  12.03  0.31             N                  NaN\n",
       "494 2014-02-10  12.64  12.06  0.28             N                  NaN\n",
       "495 2014-03-11  12.67  12.09  0.25             N                  NaN\n",
       "496 2014-04-09  12.68  12.10  0.24             N                  NaN\n",
       "497 2014-05-04  12.70  12.12  0.22             N                  NaN\n",
       "498 2014-05-05  12.70  12.12  0.22             N                  NaN\n",
       "499 2014-06-04  12.71  12.13  0.21             N                  NaN\n",
       "500 2014-07-28  12.61  12.03  0.31             N                  NaN\n",
       "501 2014-08-25  12.60  12.02  0.32             N                  NaN\n",
       "502 2014-09-22  16.58  16.00 -3.66             Y  Transcription error\n",
       "503 2014-10-22  12.59  12.01  0.33             N                  NaN\n",
       "504 2014-11-17  12.59  12.01  0.33             N                  NaN\n",
       "505 2014-12-15  12.59  12.01  0.33             N                  NaN"
      ]
     },
     "execution_count": 7,
     "metadata": {},
     "output_type": "execute_result"
    }
   ],
   "source": [
    "df[df.obs_date.dt.year == 2014][['obs_date', 'dtw', 'swl', 'rswl', 'anomalous_ind', 'comments']]"
   ]
  },
  {
   "cell_type": "markdown",
   "id": "754ba852",
   "metadata": {},
   "source": [
    "And if you want, you can opt to always exclude \"anomalous\" readings, although it is should be noted the definition of \"anomalous\" is somewhat subjective:"
   ]
  },
  {
   "cell_type": "code",
   "execution_count": 8,
   "id": "82f0bca0",
   "metadata": {},
   "outputs": [
    {
     "data": {
      "text/html": [
       "<div>\n",
       "<style scoped>\n",
       "    .dataframe tbody tr th:only-of-type {\n",
       "        vertical-align: middle;\n",
       "    }\n",
       "\n",
       "    .dataframe tbody tr th {\n",
       "        vertical-align: top;\n",
       "    }\n",
       "\n",
       "    .dataframe thead th {\n",
       "        text-align: right;\n",
       "    }\n",
       "</style>\n",
       "<table border=\"1\" class=\"dataframe\">\n",
       "  <thead>\n",
       "    <tr style=\"text-align: right;\">\n",
       "      <th></th>\n",
       "      <th>obs_date</th>\n",
       "      <th>dtw</th>\n",
       "      <th>swl</th>\n",
       "      <th>rswl</th>\n",
       "      <th>anomalous_ind</th>\n",
       "      <th>comments</th>\n",
       "    </tr>\n",
       "  </thead>\n",
       "  <tbody>\n",
       "    <tr>\n",
       "      <th>493</th>\n",
       "      <td>2014-01-13</td>\n",
       "      <td>12.61</td>\n",
       "      <td>12.03</td>\n",
       "      <td>0.31</td>\n",
       "      <td>N</td>\n",
       "      <td>NaN</td>\n",
       "    </tr>\n",
       "    <tr>\n",
       "      <th>494</th>\n",
       "      <td>2014-02-10</td>\n",
       "      <td>12.64</td>\n",
       "      <td>12.06</td>\n",
       "      <td>0.28</td>\n",
       "      <td>N</td>\n",
       "      <td>NaN</td>\n",
       "    </tr>\n",
       "    <tr>\n",
       "      <th>495</th>\n",
       "      <td>2014-03-11</td>\n",
       "      <td>12.67</td>\n",
       "      <td>12.09</td>\n",
       "      <td>0.25</td>\n",
       "      <td>N</td>\n",
       "      <td>NaN</td>\n",
       "    </tr>\n",
       "    <tr>\n",
       "      <th>496</th>\n",
       "      <td>2014-04-09</td>\n",
       "      <td>12.68</td>\n",
       "      <td>12.10</td>\n",
       "      <td>0.24</td>\n",
       "      <td>N</td>\n",
       "      <td>NaN</td>\n",
       "    </tr>\n",
       "    <tr>\n",
       "      <th>497</th>\n",
       "      <td>2014-05-04</td>\n",
       "      <td>12.70</td>\n",
       "      <td>12.12</td>\n",
       "      <td>0.22</td>\n",
       "      <td>N</td>\n",
       "      <td>NaN</td>\n",
       "    </tr>\n",
       "    <tr>\n",
       "      <th>498</th>\n",
       "      <td>2014-05-05</td>\n",
       "      <td>12.70</td>\n",
       "      <td>12.12</td>\n",
       "      <td>0.22</td>\n",
       "      <td>N</td>\n",
       "      <td>NaN</td>\n",
       "    </tr>\n",
       "    <tr>\n",
       "      <th>499</th>\n",
       "      <td>2014-06-04</td>\n",
       "      <td>12.71</td>\n",
       "      <td>12.13</td>\n",
       "      <td>0.21</td>\n",
       "      <td>N</td>\n",
       "      <td>NaN</td>\n",
       "    </tr>\n",
       "    <tr>\n",
       "      <th>500</th>\n",
       "      <td>2014-07-28</td>\n",
       "      <td>12.61</td>\n",
       "      <td>12.03</td>\n",
       "      <td>0.31</td>\n",
       "      <td>N</td>\n",
       "      <td>NaN</td>\n",
       "    </tr>\n",
       "    <tr>\n",
       "      <th>501</th>\n",
       "      <td>2014-08-25</td>\n",
       "      <td>12.60</td>\n",
       "      <td>12.02</td>\n",
       "      <td>0.32</td>\n",
       "      <td>N</td>\n",
       "      <td>NaN</td>\n",
       "    </tr>\n",
       "    <tr>\n",
       "      <th>502</th>\n",
       "      <td>2014-10-22</td>\n",
       "      <td>12.59</td>\n",
       "      <td>12.01</td>\n",
       "      <td>0.33</td>\n",
       "      <td>N</td>\n",
       "      <td>NaN</td>\n",
       "    </tr>\n",
       "    <tr>\n",
       "      <th>503</th>\n",
       "      <td>2014-11-17</td>\n",
       "      <td>12.59</td>\n",
       "      <td>12.01</td>\n",
       "      <td>0.33</td>\n",
       "      <td>N</td>\n",
       "      <td>NaN</td>\n",
       "    </tr>\n",
       "    <tr>\n",
       "      <th>504</th>\n",
       "      <td>2014-12-15</td>\n",
       "      <td>12.59</td>\n",
       "      <td>12.01</td>\n",
       "      <td>0.33</td>\n",
       "      <td>N</td>\n",
       "      <td>NaN</td>\n",
       "    </tr>\n",
       "  </tbody>\n",
       "</table>\n",
       "</div>"
      ],
      "text/plain": [
       "      obs_date    dtw    swl  rswl anomalous_ind comments\n",
       "493 2014-01-13  12.61  12.03  0.31             N      NaN\n",
       "494 2014-02-10  12.64  12.06  0.28             N      NaN\n",
       "495 2014-03-11  12.67  12.09  0.25             N      NaN\n",
       "496 2014-04-09  12.68  12.10  0.24             N      NaN\n",
       "497 2014-05-04  12.70  12.12  0.22             N      NaN\n",
       "498 2014-05-05  12.70  12.12  0.22             N      NaN\n",
       "499 2014-06-04  12.71  12.13  0.21             N      NaN\n",
       "500 2014-07-28  12.61  12.03  0.31             N      NaN\n",
       "501 2014-08-25  12.60  12.02  0.32             N      NaN\n",
       "502 2014-10-22  12.59  12.01  0.33             N      NaN\n",
       "503 2014-11-17  12.59  12.01  0.33             N      NaN\n",
       "504 2014-12-15  12.59  12.01  0.33             N      NaN"
      ]
     },
     "execution_count": 8,
     "metadata": {},
     "output_type": "execute_result"
    }
   ],
   "source": [
    "df = sa_gwdata.water_levels(wells, anomalous=False)\n",
    "df[df.obs_date.dt.year == 2014][['obs_date', 'dtw', 'swl', 'rswl', 'anomalous_ind', 'comments']]"
   ]
  },
  {
   "cell_type": "markdown",
   "id": "95306c96",
   "metadata": {},
   "source": [
    "### Groundwater level parameters\n",
    "\n",
    "There are three different water level parameters:\n",
    "\n",
    "<!-- START -- If you edit this text, please also edit the text on available-data.md -->\n",
    "\n",
    "**Depth to Water (dtw/DTW)**\n",
    "\n",
    "This is in metres measured below a reference point. Increasing numbers indicate an increasing depth to\n",
    "water. Negative numbers indicate flowing artesian conditions. The reference point's true elevation above\n",
    "ground surface *can* change i.e. if a casing standpipe is chopped off or installed, so although this number is\n",
    "what is in effect measured in the real world, it should not be used for analysis. \n",
    "\n",
    "**Standing Water Level (swl/SWL)**\n",
    "\n",
    "This is the Depth to Water, automatically corrected such that it represents a depth below ground level.\n",
    "Increasing numbers indicate an increasing depth to water. Negative numbers indicate flowing artesian\n",
    "conditions. The SWL and DTW values are only different when well elevation data is available and the two\n",
    "elevation values (of the reference point, and the ground) are different - the difference is used to calculate\n",
    "the SWL. If they are the same (e.g. maybe the elevation was derived from a digital elevation model), or no\n",
    "elevation data is available, then the SWL will be present but it will be identical to the DTW. I recommend\n",
    "that you always use the SWL value (or RSWL, see below).\n",
    "\n",
    "**Reduced Standing Water Level (rswl/RWL)**\n",
    "\n",
    "This value has been corrected to represent the groundwater level measured above Australian Height Datum (AHD).\n",
    "Increasing numbers indicate a *decreasing* depth to water. RSWL values are only present when we have an\n",
    "elevation survey for that well. This is obviously the correct value to use for most purposes, if it is\n",
    "available.\n",
    "\n",
    "<!-- END -->\n",
    "\n",
    "Note that there is no distinguishing between physical groundwater levels (i.e. the water table) and water levels as measured in a well which penetrates and provides access to a confined aquifer (i.e. a groundwater pressure level). Even wells which access confined groundwater with flowing artesian conditions, where the pressure level is measured using a pressure gauge at surface, have data reported using this method as \"Depth to Water\" (which would in that case be a negative number)."
   ]
  },
  {
   "cell_type": "markdown",
   "id": "77f575f6",
   "metadata": {},
   "source": [
    "To compare all of these parameters, see them on a chart:"
   ]
  },
  {
   "cell_type": "code",
   "execution_count": 10,
   "id": "5ad848c6",
   "metadata": {},
   "outputs": [
    {
     "data": {
      "image/png": "[encoded data removed]",
      "text/plain": [
       "<Figure size 576x360 with 2 Axes>"
      ]
     },
     "metadata": {
      "needs_background": "light"
     },
     "output_type": "display_data"
    }
   ],
   "source": [
    "fig = plt.figure(figsize=(8, 5))\n",
    "ax = fig.add_subplot(111)\n",
    "ax.plot(df.obs_date, df.dtw, label='dtw', color='tab:blue')\n",
    "ax.plot(df.obs_date, df.swl, label='swl', color='tab:green', lw=12, alpha=0.3)\n",
    "ax.plot([], [], label='rswl', color='tab:red', alpha=1, lw=2, ls=':')\n",
    "ax.invert_yaxis()\n",
    "span = 2.5\n",
    "ax_top = 10.6\n",
    "ax2_top = 1.75\n",
    "ax.set_ylim(ax_top + span, ax_top)\n",
    "ax.set_ylabel('dtw & swl', color='black')\n",
    "ax2 = ax.twinx()\n",
    "ax2.plot(df.obs_date, df.rswl, label='rswl', color='tab:red', alpha=1, lw=2, ls=':')\n",
    "ax2.set_ylim(ax2_top - span, ax2_top)\n",
    "ax2.set_ylabel('rswl', color='red')\n",
    "ax.legend()\n",
    "fig.savefig(\"figures/groundwater-level-parameters.png\", bbox_inches='tight')"
   ]
  },
  {
   "cell_type": "markdown",
   "id": "975d7f67",
   "metadata": {},
   "source": [
    "Note the change in casing reference point around 1990 - clearly a casing standpipe was installed, because overnight, the depth to water increased by about one metre, and the new measurements were being made from the top of the standpipe, instead of ground level."
   ]
  },
  {
   "cell_type": "markdown",
   "id": "9ffd0f60",
   "metadata": {},
   "source": [
    "### Measured during!\n",
    "\n",
    "There is a metadata property attached to water level and salinity data called \"measured during\". This indicates what kind of activity the data was obtained during, and it is a good way to filter out irrelevant measurements from relevant ones in terms of monitoring.\n",
    "\n",
    "These are the values that measured_during can take:"
   ]
  },
  {
   "cell_type": "code",
   "execution_count": 137,
   "id": "bb84fbe9",
   "metadata": {},
   "outputs": [],
   "source": [
    "meas_during_lut = {\n",
    "    'A': 'Aquifer Test',\n",
    "    'D': 'Drilling',\n",
    "    'F': 'Field Survey',\n",
    "    'S': 'Final Sample on drilling completion',\n",
    "    'G': 'Geophysical Logging',\n",
    "    'L': 'Landowner Sample',\n",
    "    'M': 'Monitoring',\n",
    "    'R': 'Rehabilitation',\n",
    "    'U': 'Unknown',\n",
    "    'W': 'Well Yield',\n",
    "}"
   ]
  },
  {
   "cell_type": "markdown",
   "id": "ffd71bc7",
   "metadata": {},
   "source": [
    "An example is from well 6628-5103"
   ]
  },
  {
   "cell_type": "code",
   "execution_count": 134,
   "id": "8943c4ed",
   "metadata": {},
   "outputs": [],
   "source": [
    "wells = sa_gwdata.find_wells('6628-5103')"
   ]
  },
  {
   "cell_type": "code",
   "execution_count": 135,
   "id": "11afaafe",
   "metadata": {},
   "outputs": [],
   "source": [
    "df = sa_gwdata.water_levels(wells)"
   ]
  },
  {
   "cell_type": "code",
   "execution_count": 136,
   "id": "40f21f8f",
   "metadata": {},
   "outputs": [
    {
     "data": {
      "text/plain": [
       "M    142\n",
       "A      3\n",
       "Name: measured_during, dtype: int64"
      ]
     },
     "execution_count": 136,
     "metadata": {},
     "output_type": "execute_result"
    }
   ],
   "source": [
    "df.measured_during.value_counts()"
   ]
  },
  {
   "cell_type": "code",
   "execution_count": 144,
   "id": "94c1b814",
   "metadata": {},
   "outputs": [
    {
     "data": {
      "text/plain": [
       "Text(0, 0.5, 'swl')"
      ]
     },
     "execution_count": 144,
     "metadata": {},
     "output_type": "execute_result"
    },
    {
     "data": {
      "image/png": "[encoded data removed]",
      "text/plain": [
       "<Figure size 576x360 with 1 Axes>"
      ]
     },
     "metadata": {
      "needs_background": "light"
     },
     "output_type": "display_data"
    }
   ],
   "source": [
    "fig = plt.figure(figsize=(8, 5))\n",
    "ax = fig.add_subplot(111)\n",
    "df[df.measured_during == 'M'].plot(ax=ax, x='obs_date', y='swl', color='tab:blue', marker='+', lw=0.5, label='Monitoring')\n",
    "df[df.measured_during == 'A'].plot(ax=ax, x='obs_date', y='swl', color='tab:red', marker='x', lw=0.5, label='Aquifer test')\n",
    "df.plot(ax=ax, x='obs_date', y='swl', lw=0.1, color='grey', label='all data')\n",
    "ax.legend()\n",
    "ax.invert_yaxis()\n",
    "ax.set_ylabel('swl')"
   ]
  },
  {
   "cell_type": "markdown",
   "id": "9d3c75d7",
   "metadata": {},
   "source": [
    "As you can see, filtering to only retain measured during \"M\" (monitoring) is often a good idea for analysis of water level data."
   ]
  },
  {
   "cell_type": "markdown",
   "id": "6c7e668a",
   "metadata": {},
   "source": [
    "## Salinity data\n",
    "\n",
    "Salinity tends to be monitored from different wells than water level.\n",
    "\n",
    "Let's look at LKW039, a well from the other side of Eyre Peninsula at Coffin Bay."
   ]
  },
  {
   "cell_type": "code",
   "execution_count": 145,
   "id": "ab1f8ada",
   "metadata": {},
   "outputs": [],
   "source": [
    "wells = sa_gwdata.find_wells(\"LKW 39\")"
   ]
  },
  {
   "cell_type": "code",
   "execution_count": 146,
   "id": "c9c6d764",
   "metadata": {},
   "outputs": [
    {
     "data": {
      "text/plain": [
       "['LKW039']"
      ]
     },
     "execution_count": 146,
     "metadata": {},
     "output_type": "execute_result"
    }
   ],
   "source": [
    "wells"
   ]
  },
  {
   "cell_type": "code",
   "execution_count": 147,
   "id": "e0c5e015",
   "metadata": {},
   "outputs": [
    {
     "name": "stdout",
     "output_type": "stream",
     "text": [
      "<class 'pandas.core.frame.DataFrame'>\n",
      "RangeIndex: 168 entries, 0 to 167\n",
      "Data columns (total 20 columns):\n",
      " #   Column           Non-Null Count  Dtype         \n",
      "---  ------           --------------  -----         \n",
      " 0   dh_no            168 non-null    int64         \n",
      " 1   network          168 non-null    object        \n",
      " 2   aquifer          168 non-null    object        \n",
      " 3   unit_hyphen      168 non-null    object        \n",
      " 4   unit_long        168 non-null    int64         \n",
      " 5   obs_no           168 non-null    object        \n",
      " 6   collected_date   168 non-null    datetime64[ns]\n",
      " 7   collected_time   7 non-null      object        \n",
      " 8   tds              168 non-null    int64         \n",
      " 9   ec               168 non-null    int64         \n",
      " 10  ph               20 non-null     float64       \n",
      " 11  sample_type      168 non-null    object        \n",
      " 12  anomalous_ind    168 non-null    object        \n",
      " 13  test_place       86 non-null     object        \n",
      " 14  extract_method   165 non-null    object        \n",
      " 15  measured_during  168 non-null    object        \n",
      " 16  data_source      168 non-null    object        \n",
      " 17  easting          168 non-null    float64       \n",
      " 18  northing         168 non-null    float64       \n",
      " 19  zone             168 non-null    int64         \n",
      "dtypes: datetime64[ns](1), float64(3), int64(5), object(11)\n",
      "memory usage: 26.4+ KB\n"
     ]
    }
   ],
   "source": [
    "df = sa_gwdata.salinities(wells)\n",
    "df.info()"
   ]
  },
  {
   "cell_type": "markdown",
   "id": "3b8d0d97",
   "metadata": {},
   "source": [
    "These are the important fields:\n",
    "\n",
    "- **tds (Total Dissolved Solids in mg/L)**: almost always estimated from the EC measurement by a standard formula - TODO document\n",
    "- **ec (Electrical Conductivity at 25 deg C in uS/cm)**: the electrical conductivity, corrected for temperature\n",
    "- **Anomalous indicator Y/N**: as for water level above\n",
    "- **Test Place**: location that the EC was measured: values include:\n",
    "  - U = Unknown\n",
    "  - F = During fieldwork\n",
    "  - RP = Regency Park i.e. the water test room\n",
    "- **Extraction Method**: how the water sample was obtained for testing.\n",
    "- **Measured During**: see discussion above\n",
    "- **Data Source**: where the data came from"
   ]
  },
  {
   "cell_type": "code",
   "execution_count": 149,
   "id": "76e7fa67",
   "metadata": {},
   "outputs": [
    {
     "data": {
      "text/html": [
       "<div>\n",
       "<style scoped>\n",
       "    .dataframe tbody tr th:only-of-type {\n",
       "        vertical-align: middle;\n",
       "    }\n",
       "\n",
       "    .dataframe tbody tr th {\n",
       "        vertical-align: top;\n",
       "    }\n",
       "\n",
       "    .dataframe thead th {\n",
       "        text-align: right;\n",
       "    }\n",
       "</style>\n",
       "<table border=\"1\" class=\"dataframe\">\n",
       "  <thead>\n",
       "    <tr style=\"text-align: right;\">\n",
       "      <th></th>\n",
       "      <th>collected_date</th>\n",
       "      <th>tds</th>\n",
       "      <th>ec</th>\n",
       "      <th>anomalous_ind</th>\n",
       "      <th>test_place</th>\n",
       "      <th>extract_method</th>\n",
       "      <th>measured_during</th>\n",
       "      <th>data_source</th>\n",
       "    </tr>\n",
       "  </thead>\n",
       "  <tbody>\n",
       "    <tr>\n",
       "      <th>0</th>\n",
       "      <td>1985-03-25</td>\n",
       "      <td>392</td>\n",
       "      <td>712</td>\n",
       "      <td>N</td>\n",
       "      <td>U</td>\n",
       "      <td>PUMP</td>\n",
       "      <td>W</td>\n",
       "      <td>DEWNR</td>\n",
       "    </tr>\n",
       "    <tr>\n",
       "      <th>1</th>\n",
       "      <td>1985-03-25</td>\n",
       "      <td>386</td>\n",
       "      <td>701</td>\n",
       "      <td>N</td>\n",
       "      <td>U</td>\n",
       "      <td>PUMP</td>\n",
       "      <td>W</td>\n",
       "      <td>DEWNR</td>\n",
       "    </tr>\n",
       "    <tr>\n",
       "      <th>2</th>\n",
       "      <td>1985-03-25</td>\n",
       "      <td>392</td>\n",
       "      <td>713</td>\n",
       "      <td>N</td>\n",
       "      <td>U</td>\n",
       "      <td>PUMP</td>\n",
       "      <td>W</td>\n",
       "      <td>DEWNR</td>\n",
       "    </tr>\n",
       "    <tr>\n",
       "      <th>3</th>\n",
       "      <td>1985-03-25</td>\n",
       "      <td>387</td>\n",
       "      <td>704</td>\n",
       "      <td>N</td>\n",
       "      <td>U</td>\n",
       "      <td>PUMP</td>\n",
       "      <td>W</td>\n",
       "      <td>DEWNR</td>\n",
       "    </tr>\n",
       "    <tr>\n",
       "      <th>4</th>\n",
       "      <td>1985-03-25</td>\n",
       "      <td>392</td>\n",
       "      <td>712</td>\n",
       "      <td>N</td>\n",
       "      <td>U</td>\n",
       "      <td>PUMP</td>\n",
       "      <td>W</td>\n",
       "      <td>DEWNR</td>\n",
       "    </tr>\n",
       "    <tr>\n",
       "      <th>...</th>\n",
       "      <td>...</td>\n",
       "      <td>...</td>\n",
       "      <td>...</td>\n",
       "      <td>...</td>\n",
       "      <td>...</td>\n",
       "      <td>...</td>\n",
       "      <td>...</td>\n",
       "      <td>...</td>\n",
       "    </tr>\n",
       "    <tr>\n",
       "      <th>163</th>\n",
       "      <td>2015-04-20</td>\n",
       "      <td>1049</td>\n",
       "      <td>1900</td>\n",
       "      <td>N</td>\n",
       "      <td>NaN</td>\n",
       "      <td>PUMP</td>\n",
       "      <td>M</td>\n",
       "      <td>DEWNR</td>\n",
       "    </tr>\n",
       "    <tr>\n",
       "      <th>164</th>\n",
       "      <td>2016-04-18</td>\n",
       "      <td>1077</td>\n",
       "      <td>1950</td>\n",
       "      <td>N</td>\n",
       "      <td>F</td>\n",
       "      <td>PUMP</td>\n",
       "      <td>M</td>\n",
       "      <td>DEWNR</td>\n",
       "    </tr>\n",
       "    <tr>\n",
       "      <th>165</th>\n",
       "      <td>2019-12-14</td>\n",
       "      <td>1127</td>\n",
       "      <td>2040</td>\n",
       "      <td>N</td>\n",
       "      <td>RP</td>\n",
       "      <td>PUMP</td>\n",
       "      <td>M</td>\n",
       "      <td>DEW</td>\n",
       "    </tr>\n",
       "    <tr>\n",
       "      <th>166</th>\n",
       "      <td>2020-10-18</td>\n",
       "      <td>1076</td>\n",
       "      <td>1948</td>\n",
       "      <td>N</td>\n",
       "      <td>RP</td>\n",
       "      <td>PUMP</td>\n",
       "      <td>M</td>\n",
       "      <td>DEW</td>\n",
       "    </tr>\n",
       "    <tr>\n",
       "      <th>167</th>\n",
       "      <td>2021-10-26</td>\n",
       "      <td>1116</td>\n",
       "      <td>2020</td>\n",
       "      <td>N</td>\n",
       "      <td>RP</td>\n",
       "      <td>PUMP</td>\n",
       "      <td>M</td>\n",
       "      <td>DEW</td>\n",
       "    </tr>\n",
       "  </tbody>\n",
       "</table>\n",
       "<p>168 rows × 8 columns</p>\n",
       "</div>"
      ],
      "text/plain": [
       "    collected_date   tds    ec anomalous_ind test_place extract_method  \\\n",
       "0       1985-03-25   392   712             N          U           PUMP   \n",
       "1       1985-03-25   386   701             N          U           PUMP   \n",
       "2       1985-03-25   392   713             N          U           PUMP   \n",
       "3       1985-03-25   387   704             N          U           PUMP   \n",
       "4       1985-03-25   392   712             N          U           PUMP   \n",
       "..             ...   ...   ...           ...        ...            ...   \n",
       "163     2015-04-20  1049  1900             N        NaN           PUMP   \n",
       "164     2016-04-18  1077  1950             N          F           PUMP   \n",
       "165     2019-12-14  1127  2040             N         RP           PUMP   \n",
       "166     2020-10-18  1076  1948             N         RP           PUMP   \n",
       "167     2021-10-26  1116  2020             N         RP           PUMP   \n",
       "\n",
       "    measured_during data_source  \n",
       "0                 W       DEWNR  \n",
       "1                 W       DEWNR  \n",
       "2                 W       DEWNR  \n",
       "3                 W       DEWNR  \n",
       "4                 W       DEWNR  \n",
       "..              ...         ...  \n",
       "163               M       DEWNR  \n",
       "164               M       DEWNR  \n",
       "165               M         DEW  \n",
       "166               M         DEW  \n",
       "167               M         DEW  \n",
       "\n",
       "[168 rows x 8 columns]"
      ]
     },
     "execution_count": 149,
     "metadata": {},
     "output_type": "execute_result"
    }
   ],
   "source": [
    "df[['collected_date', 'tds', 'ec', 'anomalous_ind', 'test_place', 'extract_method', 'measured_during', 'data_source']]"
   ]
  },
  {
   "cell_type": "markdown",
   "id": "859b7355",
   "metadata": {},
   "source": [
    "A key field for salinity data is certainly the extraction method, and usually values like PUMP and AIRL (airlifting) are the main ones you should filter for:"
   ]
  },
  {
   "cell_type": "code",
   "execution_count": 173,
   "id": "139e435f",
   "metadata": {},
   "outputs": [
    {
     "data": {
      "text/plain": [
       "BAIL    134\n",
       "PUMP     31\n",
       "NA        3\n",
       "Name: extract_method, dtype: int64"
      ]
     },
     "execution_count": 173,
     "metadata": {},
     "output_type": "execute_result"
    }
   ],
   "source": [
    "df.extract_method.fillna(\"NA\").value_counts()"
   ]
  },
  {
   "cell_type": "code",
   "execution_count": 176,
   "id": "fc22c3a0",
   "metadata": {},
   "outputs": [
    {
     "data": {
      "text/plain": [
       "Text(0, 0.5, 'tds')"
      ]
     },
     "execution_count": 176,
     "metadata": {},
     "output_type": "execute_result"
    },
    {
     "data": {
      "image/png": "[encoded data removed]",
      "text/plain": [
       "<Figure size 576x360 with 1 Axes>"
      ]
     },
     "metadata": {
      "needs_background": "light"
     },
     "output_type": "display_data"
    }
   ],
   "source": [
    "fig = plt.figure(figsize=(8, 5))\n",
    "ax = fig.add_subplot(111)\n",
    "df[df.extract_method == 'PUMP'].plot(\n",
    "    ax=ax, x='collected_date', y='tds', color='tab:blue', marker='s', ms=10, ls='none', label='PUMP', mfc='skyblue'\n",
    ")\n",
    "df[df.extract_method == 'BAIL'].plot(\n",
    "    ax=ax, x='collected_date', y='tds', color='tab:orange', marker='^', ms=10, ls='none', label='BAIL', mfc='none'\n",
    ")\n",
    "df[pd.isnull(df.extract_method)].plot(\n",
    "    ax=ax, x='collected_date', y='tds', color='black', marker='*', ms=15, ls='none', label='null', mfc='lightgrey'\n",
    ")\n",
    "ax.legend()\n",
    "ax.set_ylabel('tds')"
   ]
  },
  {
   "cell_type": "code",
   "execution_count": null,
   "id": "f917b344",
   "metadata": {},
   "outputs": [],
   "source": []
  }
 ],
 "metadata": {
  "kernelspec": {
   "display_name": "Python 3 (ipykernel)",
   "language": "python",
   "name": "python3"
  },
  "language_info": {
   "codemirror_mode": {
    "name": "ipython",
    "version": 3
   },
   "file_extension": ".py",
   "mimetype": "text/x-python",
   "name": "python",
   "nbconvert_exporter": "python",
   "pygments_lexer": "ipython3",
   "version": "3.10.5"
  }
 },
 "nbformat": 4,
 "nbformat_minor": 5
}
